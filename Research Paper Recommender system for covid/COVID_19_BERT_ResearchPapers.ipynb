{
  "nbformat": 4,
  "nbformat_minor": 0,
  "metadata": {
    "colab": {
      "name": "COVID_19_BERT_ResearchPapers_Semantic_Search.ipynb",
      "provenance": [],
      "collapsed_sections": [
        "Uidivjf6fRdW",
        "sFVjsMb8xPkD",
        "_p2-bJT_EyZL"
      ],
      "machine_shape": "hm"
    },
    "kernelspec": {
      "name": "python3",
      "display_name": "Python 3"
    },
    "widgets": {
      "application/vnd.jupyter.widget-state+json": {
        "dd3a9f59f16a417fb633e63055acd186": {
          "model_module": "@jupyter-widgets/controls",
          "model_name": "HBoxModel",
          "state": {
            "_view_name": "HBoxView",
            "_dom_classes": [],
            "_model_name": "HBoxModel",
            "_view_module": "@jupyter-widgets/controls",
            "_model_module_version": "1.5.0",
            "_view_count": null,
            "_view_module_version": "1.5.0",
            "box_style": "",
            "layout": "IPY_MODEL_558bd75318e142b7ad3ef67832b25898",
            "_model_module": "@jupyter-widgets/controls",
            "children": [
              "IPY_MODEL_8dd0fc88f5c846bfa4e43f6d9746626a",
              "IPY_MODEL_c5ca4f152170458b9e9de9b72ca237ba"
            ]
          }
        },
        "558bd75318e142b7ad3ef67832b25898": {
          "model_module": "@jupyter-widgets/base",
          "model_name": "LayoutModel",
          "state": {
            "_view_name": "LayoutView",
            "grid_template_rows": null,
            "right": null,
            "justify_content": null,
            "_view_module": "@jupyter-widgets/base",
            "overflow": null,
            "_model_module_version": "1.2.0",
            "_view_count": null,
            "flex_flow": null,
            "width": null,
            "min_width": null,
            "border": null,
            "align_items": null,
            "bottom": null,
            "_model_module": "@jupyter-widgets/base",
            "top": null,
            "grid_column": null,
            "overflow_y": null,
            "overflow_x": null,
            "grid_auto_flow": null,
            "grid_area": null,
            "grid_template_columns": null,
            "flex": null,
            "_model_name": "LayoutModel",
            "justify_items": null,
            "grid_row": null,
            "max_height": null,
            "align_content": null,
            "visibility": null,
            "align_self": null,
            "height": null,
            "min_height": null,
            "padding": null,
            "grid_auto_rows": null,
            "grid_gap": null,
            "max_width": null,
            "order": null,
            "_view_module_version": "1.2.0",
            "grid_template_areas": null,
            "object_position": null,
            "object_fit": null,
            "grid_auto_columns": null,
            "margin": null,
            "display": null,
            "left": null
          }
        },
        "8dd0fc88f5c846bfa4e43f6d9746626a": {
          "model_module": "@jupyter-widgets/controls",
          "model_name": "FloatProgressModel",
          "state": {
            "_view_name": "ProgressView",
            "style": "IPY_MODEL_dd9080b6bd0646748750218e60a96584",
            "_dom_classes": [],
            "description": "Batches: 100%",
            "_model_name": "FloatProgressModel",
            "bar_style": "success",
            "max": 1,
            "_view_module": "@jupyter-widgets/controls",
            "_model_module_version": "1.5.0",
            "value": 1,
            "_view_count": null,
            "_view_module_version": "1.5.0",
            "orientation": "horizontal",
            "min": 0,
            "description_tooltip": null,
            "_model_module": "@jupyter-widgets/controls",
            "layout": "IPY_MODEL_6dd6fa284ad94416b87eb8043af01875"
          }
        },
        "c5ca4f152170458b9e9de9b72ca237ba": {
          "model_module": "@jupyter-widgets/controls",
          "model_name": "HTMLModel",
          "state": {
            "_view_name": "HTMLView",
            "style": "IPY_MODEL_eace070a1f024e4d9909fca61ed97294",
            "_dom_classes": [],
            "description": "",
            "_model_name": "HTMLModel",
            "placeholder": "​",
            "_view_module": "@jupyter-widgets/controls",
            "_model_module_version": "1.5.0",
            "value": " 1/1 [00:03&lt;00:00,  3.17s/it]",
            "_view_count": null,
            "_view_module_version": "1.5.0",
            "description_tooltip": null,
            "_model_module": "@jupyter-widgets/controls",
            "layout": "IPY_MODEL_11e8f0a7535d482dbee1c061f8351b7a"
          }
        },
        "dd9080b6bd0646748750218e60a96584": {
          "model_module": "@jupyter-widgets/controls",
          "model_name": "ProgressStyleModel",
          "state": {
            "_view_name": "StyleView",
            "_model_name": "ProgressStyleModel",
            "description_width": "initial",
            "_view_module": "@jupyter-widgets/base",
            "_model_module_version": "1.5.0",
            "_view_count": null,
            "_view_module_version": "1.2.0",
            "bar_color": null,
            "_model_module": "@jupyter-widgets/controls"
          }
        },
        "6dd6fa284ad94416b87eb8043af01875": {
          "model_module": "@jupyter-widgets/base",
          "model_name": "LayoutModel",
          "state": {
            "_view_name": "LayoutView",
            "grid_template_rows": null,
            "right": null,
            "justify_content": null,
            "_view_module": "@jupyter-widgets/base",
            "overflow": null,
            "_model_module_version": "1.2.0",
            "_view_count": null,
            "flex_flow": null,
            "width": null,
            "min_width": null,
            "border": null,
            "align_items": null,
            "bottom": null,
            "_model_module": "@jupyter-widgets/base",
            "top": null,
            "grid_column": null,
            "overflow_y": null,
            "overflow_x": null,
            "grid_auto_flow": null,
            "grid_area": null,
            "grid_template_columns": null,
            "flex": null,
            "_model_name": "LayoutModel",
            "justify_items": null,
            "grid_row": null,
            "max_height": null,
            "align_content": null,
            "visibility": null,
            "align_self": null,
            "height": null,
            "min_height": null,
            "padding": null,
            "grid_auto_rows": null,
            "grid_gap": null,
            "max_width": null,
            "order": null,
            "_view_module_version": "1.2.0",
            "grid_template_areas": null,
            "object_position": null,
            "object_fit": null,
            "grid_auto_columns": null,
            "margin": null,
            "display": null,
            "left": null
          }
        },
        "eace070a1f024e4d9909fca61ed97294": {
          "model_module": "@jupyter-widgets/controls",
          "model_name": "DescriptionStyleModel",
          "state": {
            "_view_name": "StyleView",
            "_model_name": "DescriptionStyleModel",
            "description_width": "",
            "_view_module": "@jupyter-widgets/base",
            "_model_module_version": "1.5.0",
            "_view_count": null,
            "_view_module_version": "1.2.0",
            "_model_module": "@jupyter-widgets/controls"
          }
        },
        "11e8f0a7535d482dbee1c061f8351b7a": {
          "model_module": "@jupyter-widgets/base",
          "model_name": "LayoutModel",
          "state": {
            "_view_name": "LayoutView",
            "grid_template_rows": null,
            "right": null,
            "justify_content": null,
            "_view_module": "@jupyter-widgets/base",
            "overflow": null,
            "_model_module_version": "1.2.0",
            "_view_count": null,
            "flex_flow": null,
            "width": null,
            "min_width": null,
            "border": null,
            "align_items": null,
            "bottom": null,
            "_model_module": "@jupyter-widgets/base",
            "top": null,
            "grid_column": null,
            "overflow_y": null,
            "overflow_x": null,
            "grid_auto_flow": null,
            "grid_area": null,
            "grid_template_columns": null,
            "flex": null,
            "_model_name": "LayoutModel",
            "justify_items": null,
            "grid_row": null,
            "max_height": null,
            "align_content": null,
            "visibility": null,
            "align_self": null,
            "height": null,
            "min_height": null,
            "padding": null,
            "grid_auto_rows": null,
            "grid_gap": null,
            "max_width": null,
            "order": null,
            "_view_module_version": "1.2.0",
            "grid_template_areas": null,
            "object_position": null,
            "object_fit": null,
            "grid_auto_columns": null,
            "margin": null,
            "display": null,
            "left": null
          }
        }
      }
    }
  },
  "cells": [
    {
      "cell_type": "markdown",
      "metadata": {
        "id": "nMKZM7dK80C7"
      },
      "source": [
        "# COVID-19-BERT-ResearchPapers-Semantic-Search"
      ]
    },
    {
      "cell_type": "code",
      "metadata": {
        "id": "TNQu8qvwoiwv",
        "colab": {
          "base_uri": "https://localhost:8080/"
        },
        "outputId": "4f744f5a-16f2-4759-e95d-b5b175deeefc"
      },
      "source": [
        "from google.colab import drive\n",
        "drive.mount('/content/drive')"
      ],
      "execution_count": null,
      "outputs": [
        {
          "output_type": "stream",
          "text": [
            "Drive already mounted at /content/drive; to attempt to forcibly remount, call drive.mount(\"/content/drive\", force_remount=True).\n"
          ],
          "name": "stdout"
        }
      ]
    },
    {
      "cell_type": "markdown",
      "metadata": {
        "id": "sFVjsMb8xPkD"
      },
      "source": [
        "## Preparing Data for Embedding"
      ]
    },
    {
      "cell_type": "code",
      "metadata": {
        "id": "71E8Y5XJpZ2S"
      },
      "source": [
        "import pandas as pd\n",
        "from tqdm import tqdm\n",
        "\n",
        "df_sentences = pd.read_csv(\"/content/drive/MyDrive/bert recommendation/covid_sentences.csv\")\n",
        "df_sentences = df_sentences.set_index(\"Unnamed: 0\")"
      ],
      "execution_count": null,
      "outputs": []
    },
    {
      "cell_type": "code",
      "metadata": {
        "id": "brsFIaJ2y6RI",
        "colab": {
          "base_uri": "https://localhost:8080/",
          "height": 915
        },
        "outputId": "59f54609-c557-4870-e133-a9fa08ba1b5e"
      },
      "source": [
        "df_sentences.head()"
      ],
      "execution_count": null,
      "outputs": [
        {
          "output_type": "execute_result",
          "data": {
            "text/html": [
              "<div>\n",
              "<style scoped>\n",
              "    .dataframe tbody tr th:only-of-type {\n",
              "        vertical-align: middle;\n",
              "    }\n",
              "\n",
              "    .dataframe tbody tr th {\n",
              "        vertical-align: top;\n",
              "    }\n",
              "\n",
              "    .dataframe thead th {\n",
              "        text-align: right;\n",
              "    }\n",
              "</style>\n",
              "<table border=\"1\" class=\"dataframe\">\n",
              "  <thead>\n",
              "    <tr style=\"text-align: right;\">\n",
              "      <th></th>\n",
              "      <th>paper_id</th>\n",
              "    </tr>\n",
              "    <tr>\n",
              "      <th>Unnamed: 0</th>\n",
              "      <th></th>\n",
              "    </tr>\n",
              "  </thead>\n",
              "  <tbody>\n",
              "    <tr>\n",
              "      <th>footandmouth disease fmd an acute highly contagious viral disease in susceptible clovenhoofed animals was described 100 years ago the etiologic agent fmd virus fmdv is a positivesense singlestranded rna virus that belongs to the aphthovirus genus picornaviridae family fmdv is one of the most contagious viruses in clovenhoofed animals and can cause both acute and prolonged asymptomatic but persistent infection [1]  upon infection of susceptible species fmdv proliferates rapidly and causes vesicular disease in feet and mouth</th>\n",
              "      <td>db5333b01a10f165ae516d30f9d1fbf96ab4b841</td>\n",
              "    </tr>\n",
              "    <tr>\n",
              "      <th>the rna virus genome of fmdv displays a very high mutation rate because the virusencoded rna polymerase lacks a proofreading mechanism [2 3]  the high mutation rate of fmdv coupled with its rapid proliferation and extensive population result in the rapid evolution of this virus [4]  which contributes to the existence of seven main serotypes a o c asia1 south african territories sat 1 sat2 and sat3 in addition numerous variants and subtypes have been further evolved from each serotype [1]  given that crossreactivity varies antigenic diversity among these serotypes have to be considered during vaccine development [5]</th>\n",
              "      <td>db5333b01a10f165ae516d30f9d1fbf96ab4b841</td>\n",
              "    </tr>\n",
              "    <tr>\n",
              "      <th>fmdv virion has a symmetric protein shell or capsid enclosing the genomic rna genome rna contains a positive singlestrand chain approximately 83 kb long and encodes a single long open reading frame orf of about 7 kb with two alternative initiation sites the orf is flanked by a long 5untranslated region 5utr and a short 3utr and ends with a genetically encoded polya tail [6]  a genomelinked viral nonstructural protein nsp 3b also known as vpg containing 2324 amino acid aa residues is covalently bound to its 5 end although this protein is rapidly released into an infected cell and is deemed to play no part in translation initiation [7]  the viral orf can be translated into a polyprotein of about 250 kda which is subsequently cleaved by two virusencoded proteinases leader l pro  and 3c pro  to yield structural and nsps [8 9] fig 1</th>\n",
              "      <td>db5333b01a10f165ae516d30f9d1fbf96ab4b841</td>\n",
              "    </tr>\n",
              "    <tr>\n",
              "      <th>the fmdv genome was completely sequenced and all cleavage sites involved in the processing of polypeptides were also identified in the past two decades generally the orf region in fmdv genome is artificially divided into four functional areas due to the different functions of mature polypeptides [10]  which are shown as follows  fig 1  l region which is located at 5 end to the capsid component and codes for l pro  p1 region encoding a precursor for capsid polypeptide which can generate four mature capsid proteins vp4 vp2 vp3 and vp1 upon cleavage by viral protease p2 region encodes three viral proteins 2a 2b and 2c in the middle region of the genome and p3 region which encodes four viral proteins 3a 3b 3c pro and 3d pol  in which 3c is a viral protease and 3d an rnadependent rna polymerase [11]  actually primary polyprotein is not strictly processed into four products as the functional regions by initial protease but l pro  p12a 2bc and p3 by l pro  2a and 3c pro  the precursors p12a 2bc and p3 are further processed into mature viral proteins and some cleavage intermediates with relative stability such as vp0 or 1ab 3abc 3bcd 3ab and 3cd by 3c pro fig 1  usually the intermediates may perform functions other than those of their individual constituents with two alternative initiation sites the orf is flanked by a long 5untranslated region 5utr and a short 3utr 3b vpg is covalently bound to its 5 end the orf region is generally divided into four functional areas l p1 p2 and p3 due to the different functions of mature polypeptides orfencoded polyprotein is processed into four products l pro  p12a 2bc and p3 by l pro  2a and 3c pro  the precursors p12a 2bc and p3 are further processed into mature viral proteins and some cleavage intermediates with relative stability such as vp0 or 1ab 3abc 3bcd 3ab and 3cd by 3c pro  structural proteins form the biological protomer and viral capsid</th>\n",
              "      <td>db5333b01a10f165ae516d30f9d1fbf96ab4b841</td>\n",
              "    </tr>\n",
              "    <tr>\n",
              "      <th>the virus capsid consists of 60 copies of each of the four structural polypeptides vp1 to vp4 which are selfassembled into an icosahedral structure with a diameter of 30 nm [12 13] fig 1  studies on structural information and protein interaction have shown that the structural protein or the precursor products vp0 vp24 or 1ab vp1 1d and vp3 1c which are encoded by p1 region form immature protomers through weak chemical bond interaction then pentamers are assembled by five protomers [14]  after selfassembly of pentamers to generate an empty capsid the viral genomic rna covalently linked to vpg at the 5 end enters the capsid to produce provirion then the provirion is eventually processed into a mature virion following the rnatriggered autocleavage of vp0 [15]  finally the virion particles with complete assembly are released from the infected host cells fig 2</th>\n",
              "      <td>db5333b01a10f165ae516d30f9d1fbf96ab4b841</td>\n",
              "    </tr>\n",
              "  </tbody>\n",
              "</table>\n",
              "</div>"
            ],
            "text/plain": [
              "                                                                                    paper_id\n",
              "Unnamed: 0                                                                                  \n",
              "footandmouth disease fmd an acute highly contag...  db5333b01a10f165ae516d30f9d1fbf96ab4b841\n",
              "the rna virus genome of fmdv displays a very hi...  db5333b01a10f165ae516d30f9d1fbf96ab4b841\n",
              "fmdv virion has a symmetric protein shell or ca...  db5333b01a10f165ae516d30f9d1fbf96ab4b841\n",
              "the fmdv genome was completely sequenced and al...  db5333b01a10f165ae516d30f9d1fbf96ab4b841\n",
              "the virus capsid consists of 60 copies of each ...  db5333b01a10f165ae516d30f9d1fbf96ab4b841"
            ]
          },
          "metadata": {
            "tags": []
          },
          "execution_count": 3
        }
      ]
    },
    {
      "cell_type": "code",
      "metadata": {
        "id": "ZsvaWGEdonX5",
        "colab": {
          "base_uri": "https://localhost:8080/"
        },
        "outputId": "ac595bbf-825e-4233-b7b2-f12240e692d4"
      },
      "source": [
        "df_sentences = df_sentences[\"paper_id\"].to_dict()\n",
        "df_sentences_list = list(df_sentences.keys())\n",
        "len(df_sentences_list)"
      ],
      "execution_count": null,
      "outputs": [
        {
          "output_type": "execute_result",
          "data": {
            "text/plain": [
              "403341"
            ]
          },
          "metadata": {
            "tags": []
          },
          "execution_count": 4
        }
      ]
    },
    {
      "cell_type": "code",
      "metadata": {
        "id": "dArptx27xrlg",
        "colab": {
          "base_uri": "https://localhost:8080/"
        },
        "outputId": "0e09a967-a634-42f6-f530-5fd5a3ee24b0"
      },
      "source": [
        "list(df_sentences.keys())[:5]"
      ],
      "execution_count": null,
      "outputs": [
        {
          "output_type": "execute_result",
          "data": {
            "text/plain": [
              "['footandmouth disease fmd an acute highly contagious viral disease in susceptible clovenhoofed animals was described 100 years ago the etiologic agent fmd virus fmdv is a positivesense singlestranded rna virus that belongs to the aphthovirus genus picornaviridae family fmdv is one of the most contagious viruses in clovenhoofed animals and can cause both acute and prolonged asymptomatic but persistent infection [1]  upon infection of susceptible species fmdv proliferates rapidly and causes vesicular disease in feet and mouth',\n",
              " 'the rna virus genome of fmdv displays a very high mutation rate because the virusencoded rna polymerase lacks a proofreading mechanism [2 3]  the high mutation rate of fmdv coupled with its rapid proliferation and extensive population result in the rapid evolution of this virus [4]  which contributes to the existence of seven main serotypes a o c asia1 south african territories sat 1 sat2 and sat3 in addition numerous variants and subtypes have been further evolved from each serotype [1]  given that crossreactivity varies antigenic diversity among these serotypes have to be considered during vaccine development [5] ',\n",
              " 'fmdv virion has a symmetric protein shell or capsid enclosing the genomic rna genome rna contains a positive singlestrand chain approximately 83 kb long and encodes a single long open reading frame orf of about 7 kb with two alternative initiation sites the orf is flanked by a long 5untranslated region 5utr and a short 3utr and ends with a genetically encoded polya tail [6]  a genomelinked viral nonstructural protein nsp 3b also known as vpg containing 2324 amino acid aa residues is covalently bound to its 5 end although this protein is rapidly released into an infected cell and is deemed to play no part in translation initiation [7]  the viral orf can be translated into a polyprotein of about 250 kda which is subsequently cleaved by two virusencoded proteinases leader l pro  and 3c pro  to yield structural and nsps [8 9] fig 1 ',\n",
              " 'the fmdv genome was completely sequenced and all cleavage sites involved in the processing of polypeptides were also identified in the past two decades generally the orf region in fmdv genome is artificially divided into four functional areas due to the different functions of mature polypeptides [10]  which are shown as follows  fig 1  l region which is located at 5 end to the capsid component and codes for l pro  p1 region encoding a precursor for capsid polypeptide which can generate four mature capsid proteins vp4 vp2 vp3 and vp1 upon cleavage by viral protease p2 region encodes three viral proteins 2a 2b and 2c in the middle region of the genome and p3 region which encodes four viral proteins 3a 3b 3c pro and 3d pol  in which 3c is a viral protease and 3d an rnadependent rna polymerase [11]  actually primary polyprotein is not strictly processed into four products as the functional regions by initial protease but l pro  p12a 2bc and p3 by l pro  2a and 3c pro  the precursors p12a 2bc and p3 are further processed into mature viral proteins and some cleavage intermediates with relative stability such as vp0 or 1ab 3abc 3bcd 3ab and 3cd by 3c pro fig 1  usually the intermediates may perform functions other than those of their individual constituents with two alternative initiation sites the orf is flanked by a long 5untranslated region 5utr and a short 3utr 3b vpg is covalently bound to its 5 end the orf region is generally divided into four functional areas l p1 p2 and p3 due to the different functions of mature polypeptides orfencoded polyprotein is processed into four products l pro  p12a 2bc and p3 by l pro  2a and 3c pro  the precursors p12a 2bc and p3 are further processed into mature viral proteins and some cleavage intermediates with relative stability such as vp0 or 1ab 3abc 3bcd 3ab and 3cd by 3c pro  structural proteins form the biological protomer and viral capsid',\n",
              " 'the virus capsid consists of 60 copies of each of the four structural polypeptides vp1 to vp4 which are selfassembled into an icosahedral structure with a diameter of 30 nm [12 13] fig 1  studies on structural information and protein interaction have shown that the structural protein or the precursor products vp0 vp24 or 1ab vp1 1d and vp3 1c which are encoded by p1 region form immature protomers through weak chemical bond interaction then pentamers are assembled by five protomers [14]  after selfassembly of pentamers to generate an empty capsid the viral genomic rna covalently linked to vpg at the 5 end enters the capsid to produce provirion then the provirion is eventually processed into a mature virion following the rnatriggered autocleavage of vp0 [15]  finally the virion particles with complete assembly are released from the infected host cells fig 2 ']"
            ]
          },
          "metadata": {
            "tags": []
          },
          "execution_count": 5
        }
      ]
    },
    {
      "cell_type": "code",
      "metadata": {
        "id": "CoNUPZ740Gd4",
        "colab": {
          "base_uri": "https://localhost:8080/"
        },
        "outputId": "8e6bf9d6-03a8-468e-89ef-d60bc88e8854"
      },
      "source": [
        "df_sentences_list = [str(d) for d in tqdm(df_sentences_list)]"
      ],
      "execution_count": null,
      "outputs": [
        {
          "output_type": "stream",
          "text": [
            "100%|██████████| 403341/403341 [00:00<00:00, 1672818.54it/s]\n"
          ],
          "name": "stderr"
        }
      ]
    },
    {
      "cell_type": "code",
      "metadata": {
        "id": "rQGN0-qbU09N",
        "colab": {
          "base_uri": "https://localhost:8080/",
          "height": 1000
        },
        "outputId": "609e8805-c399-40b8-bc04-5aed46e4acbb"
      },
      "source": [
        "import pandas as pd\n",
        "df = pd.read_csv(\"/content/drive/MyDrive/bert recommendation/covid_sentences_Full.csv\", index_col=0)\n",
        "df.head()"
      ],
      "execution_count": null,
      "outputs": [
        {
          "output_type": "execute_result",
          "data": {
            "text/html": [
              "<div>\n",
              "<style scoped>\n",
              "    .dataframe tbody tr th:only-of-type {\n",
              "        vertical-align: middle;\n",
              "    }\n",
              "\n",
              "    .dataframe tbody tr th {\n",
              "        vertical-align: top;\n",
              "    }\n",
              "\n",
              "    .dataframe thead th {\n",
              "        text-align: right;\n",
              "    }\n",
              "</style>\n",
              "<table border=\"1\" class=\"dataframe\">\n",
              "  <thead>\n",
              "    <tr style=\"text-align: right;\">\n",
              "      <th></th>\n",
              "      <th>paper_id</th>\n",
              "      <th>title</th>\n",
              "      <th>abstract</th>\n",
              "      <th>abstract_summary</th>\n",
              "    </tr>\n",
              "  </thead>\n",
              "  <tbody>\n",
              "    <tr>\n",
              "      <th>footandmouth disease fmd an acute highly contagious viral disease in susceptible clovenhoofed animals was described 100 years ago the etiologic agent fmd virus fmdv is a positivesense singlestranded rna virus that belongs to the aphthovirus genus picornaviridae family fmdv is one of the most contagious viruses in clovenhoofed animals and can cause both acute and prolonged asymptomatic but persistent infection [1]  upon infection of susceptible species fmdv proliferates rapidly and causes vesicular disease in feet and mouth</th>\n",
              "      <td>db5333b01a10f165ae516d30f9d1fbf96ab4b841</td>\n",
              "      <td>Biological function of Foot-and-mouth&lt;br&gt;dise...</td>\n",
              "      <td>footandmouth disease virus fmdv represses host...</td>\n",
              "      <td>Foot-and-mouth disease virus (FMDV)&lt;br&gt;repres...</td>\n",
              "    </tr>\n",
              "    <tr>\n",
              "      <th>the rna virus genome of fmdv displays a very high mutation rate because the virusencoded rna polymerase lacks a proofreading mechanism [2 3]  the high mutation rate of fmdv coupled with its rapid proliferation and extensive population result in the rapid evolution of this virus [4]  which contributes to the existence of seven main serotypes a o c asia1 south african territories sat 1 sat2 and sat3 in addition numerous variants and subtypes have been further evolved from each serotype [1]  given that crossreactivity varies antigenic diversity among these serotypes have to be considered during vaccine development [5]</th>\n",
              "      <td>db5333b01a10f165ae516d30f9d1fbf96ab4b841</td>\n",
              "      <td>Biological function of Foot-and-mouth&lt;br&gt;dise...</td>\n",
              "      <td>footandmouth disease virus fmdv represses host...</td>\n",
              "      <td>Foot-and-mouth disease virus (FMDV)&lt;br&gt;repres...</td>\n",
              "    </tr>\n",
              "    <tr>\n",
              "      <th>fmdv virion has a symmetric protein shell or capsid enclosing the genomic rna genome rna contains a positive singlestrand chain approximately 83 kb long and encodes a single long open reading frame orf of about 7 kb with two alternative initiation sites the orf is flanked by a long 5untranslated region 5utr and a short 3utr and ends with a genetically encoded polya tail [6]  a genomelinked viral nonstructural protein nsp 3b also known as vpg containing 2324 amino acid aa residues is covalently bound to its 5 end although this protein is rapidly released into an infected cell and is deemed to play no part in translation initiation [7]  the viral orf can be translated into a polyprotein of about 250 kda which is subsequently cleaved by two virusencoded proteinases leader l pro  and 3c pro  to yield structural and nsps [8 9] fig 1</th>\n",
              "      <td>db5333b01a10f165ae516d30f9d1fbf96ab4b841</td>\n",
              "      <td>Biological function of Foot-and-mouth&lt;br&gt;dise...</td>\n",
              "      <td>footandmouth disease virus fmdv represses host...</td>\n",
              "      <td>Foot-and-mouth disease virus (FMDV)&lt;br&gt;repres...</td>\n",
              "    </tr>\n",
              "    <tr>\n",
              "      <th>the fmdv genome was completely sequenced and all cleavage sites involved in the processing of polypeptides were also identified in the past two decades generally the orf region in fmdv genome is artificially divided into four functional areas due to the different functions of mature polypeptides [10]  which are shown as follows  fig 1  l region which is located at 5 end to the capsid component and codes for l pro  p1 region encoding a precursor for capsid polypeptide which can generate four mature capsid proteins vp4 vp2 vp3 and vp1 upon cleavage by viral protease p2 region encodes three viral proteins 2a 2b and 2c in the middle region of the genome and p3 region which encodes four viral proteins 3a 3b 3c pro and 3d pol  in which 3c is a viral protease and 3d an rnadependent rna polymerase [11]  actually primary polyprotein is not strictly processed into four products as the functional regions by initial protease but l pro  p12a 2bc and p3 by l pro  2a and 3c pro  the precursors p12a 2bc and p3 are further processed into mature viral proteins and some cleavage intermediates with relative stability such as vp0 or 1ab 3abc 3bcd 3ab and 3cd by 3c pro fig 1  usually the intermediates may perform functions other than those of their individual constituents with two alternative initiation sites the orf is flanked by a long 5untranslated region 5utr and a short 3utr 3b vpg is covalently bound to its 5 end the orf region is generally divided into four functional areas l p1 p2 and p3 due to the different functions of mature polypeptides orfencoded polyprotein is processed into four products l pro  p12a 2bc and p3 by l pro  2a and 3c pro  the precursors p12a 2bc and p3 are further processed into mature viral proteins and some cleavage intermediates with relative stability such as vp0 or 1ab 3abc 3bcd 3ab and 3cd by 3c pro  structural proteins form the biological protomer and viral capsid</th>\n",
              "      <td>db5333b01a10f165ae516d30f9d1fbf96ab4b841</td>\n",
              "      <td>Biological function of Foot-and-mouth&lt;br&gt;dise...</td>\n",
              "      <td>footandmouth disease virus fmdv represses host...</td>\n",
              "      <td>Foot-and-mouth disease virus (FMDV)&lt;br&gt;repres...</td>\n",
              "    </tr>\n",
              "    <tr>\n",
              "      <th>the virus capsid consists of 60 copies of each of the four structural polypeptides vp1 to vp4 which are selfassembled into an icosahedral structure with a diameter of 30 nm [12 13] fig 1  studies on structural information and protein interaction have shown that the structural protein or the precursor products vp0 vp24 or 1ab vp1 1d and vp3 1c which are encoded by p1 region form immature protomers through weak chemical bond interaction then pentamers are assembled by five protomers [14]  after selfassembly of pentamers to generate an empty capsid the viral genomic rna covalently linked to vpg at the 5 end enters the capsid to produce provirion then the provirion is eventually processed into a mature virion following the rnatriggered autocleavage of vp0 [15]  finally the virion particles with complete assembly are released from the infected host cells fig 2</th>\n",
              "      <td>db5333b01a10f165ae516d30f9d1fbf96ab4b841</td>\n",
              "      <td>Biological function of Foot-and-mouth&lt;br&gt;dise...</td>\n",
              "      <td>footandmouth disease virus fmdv represses host...</td>\n",
              "      <td>Foot-and-mouth disease virus (FMDV)&lt;br&gt;repres...</td>\n",
              "    </tr>\n",
              "  </tbody>\n",
              "</table>\n",
              "</div>"
            ],
            "text/plain": [
              "                                                                                    paper_id  ...                                   abstract_summary\n",
              "footandmouth disease fmd an acute highly contag...  db5333b01a10f165ae516d30f9d1fbf96ab4b841  ...   Foot-and-mouth disease virus (FMDV)<br>repres...\n",
              "the rna virus genome of fmdv displays a very hi...  db5333b01a10f165ae516d30f9d1fbf96ab4b841  ...   Foot-and-mouth disease virus (FMDV)<br>repres...\n",
              "fmdv virion has a symmetric protein shell or ca...  db5333b01a10f165ae516d30f9d1fbf96ab4b841  ...   Foot-and-mouth disease virus (FMDV)<br>repres...\n",
              "the fmdv genome was completely sequenced and al...  db5333b01a10f165ae516d30f9d1fbf96ab4b841  ...   Foot-and-mouth disease virus (FMDV)<br>repres...\n",
              "the virus capsid consists of 60 copies of each ...  db5333b01a10f165ae516d30f9d1fbf96ab4b841  ...   Foot-and-mouth disease virus (FMDV)<br>repres...\n",
              "\n",
              "[5 rows x 4 columns]"
            ]
          },
          "metadata": {
            "tags": []
          },
          "execution_count": 7
        }
      ]
    },
    {
      "cell_type": "markdown",
      "metadata": {
        "id": "_p2-bJT_EyZL"
      },
      "source": [
        "## BERT"
      ]
    },
    {
      "cell_type": "code",
      "metadata": {
        "id": "pI_GAYlsuAMC",
        "colab": {
          "base_uri": "https://localhost:8080/"
        },
        "outputId": "b222f5d7-ed6c-4b64-a20e-b42c74514514"
      },
      "source": [
        "!pip install -U sentence-transformers"
      ],
      "execution_count": null,
      "outputs": [
        {
          "output_type": "stream",
          "text": [
            "Requirement already up-to-date: sentence-transformers in /usr/local/lib/python3.7/dist-packages (2.0.0)\n",
            "Requirement already satisfied, skipping upgrade: transformers<5.0.0,>=4.6.0 in /usr/local/lib/python3.7/dist-packages (from sentence-transformers) (4.8.2)\n",
            "Requirement already satisfied, skipping upgrade: tqdm in /usr/local/lib/python3.7/dist-packages (from sentence-transformers) (4.41.1)\n",
            "Requirement already satisfied, skipping upgrade: nltk in /usr/local/lib/python3.7/dist-packages (from sentence-transformers) (3.2.5)\n",
            "Requirement already satisfied, skipping upgrade: huggingface-hub in /usr/local/lib/python3.7/dist-packages (from sentence-transformers) (0.0.12)\n",
            "Requirement already satisfied, skipping upgrade: sentencepiece in /usr/local/lib/python3.7/dist-packages (from sentence-transformers) (0.1.96)\n",
            "Requirement already satisfied, skipping upgrade: scikit-learn in /usr/local/lib/python3.7/dist-packages (from sentence-transformers) (0.22.2.post1)\n",
            "Requirement already satisfied, skipping upgrade: scipy in /usr/local/lib/python3.7/dist-packages (from sentence-transformers) (1.4.1)\n",
            "Requirement already satisfied, skipping upgrade: torch>=1.6.0 in /usr/local/lib/python3.7/dist-packages (from sentence-transformers) (1.9.0+cu102)\n",
            "Requirement already satisfied, skipping upgrade: torchvision in /usr/local/lib/python3.7/dist-packages (from sentence-transformers) (0.10.0+cu102)\n",
            "Requirement already satisfied, skipping upgrade: numpy in /usr/local/lib/python3.7/dist-packages (from sentence-transformers) (1.19.5)\n",
            "Requirement already satisfied, skipping upgrade: requests in /usr/local/lib/python3.7/dist-packages (from transformers<5.0.0,>=4.6.0->sentence-transformers) (2.23.0)\n",
            "Requirement already satisfied, skipping upgrade: sacremoses in /usr/local/lib/python3.7/dist-packages (from transformers<5.0.0,>=4.6.0->sentence-transformers) (0.0.45)\n",
            "Requirement already satisfied, skipping upgrade: filelock in /usr/local/lib/python3.7/dist-packages (from transformers<5.0.0,>=4.6.0->sentence-transformers) (3.0.12)\n",
            "Requirement already satisfied, skipping upgrade: importlib-metadata; python_version < \"3.8\" in /usr/local/lib/python3.7/dist-packages (from transformers<5.0.0,>=4.6.0->sentence-transformers) (4.6.0)\n",
            "Requirement already satisfied, skipping upgrade: pyyaml in /usr/local/lib/python3.7/dist-packages (from transformers<5.0.0,>=4.6.0->sentence-transformers) (3.13)\n",
            "Requirement already satisfied, skipping upgrade: packaging in /usr/local/lib/python3.7/dist-packages (from transformers<5.0.0,>=4.6.0->sentence-transformers) (20.9)\n",
            "Requirement already satisfied, skipping upgrade: regex!=2019.12.17 in /usr/local/lib/python3.7/dist-packages (from transformers<5.0.0,>=4.6.0->sentence-transformers) (2019.12.20)\n",
            "Requirement already satisfied, skipping upgrade: tokenizers<0.11,>=0.10.1 in /usr/local/lib/python3.7/dist-packages (from transformers<5.0.0,>=4.6.0->sentence-transformers) (0.10.3)\n",
            "Requirement already satisfied, skipping upgrade: six in /usr/local/lib/python3.7/dist-packages (from nltk->sentence-transformers) (1.15.0)\n",
            "Requirement already satisfied, skipping upgrade: typing-extensions in /usr/local/lib/python3.7/dist-packages (from huggingface-hub->sentence-transformers) (3.7.4.3)\n",
            "Requirement already satisfied, skipping upgrade: joblib>=0.11 in /usr/local/lib/python3.7/dist-packages (from scikit-learn->sentence-transformers) (1.0.1)\n",
            "Requirement already satisfied, skipping upgrade: pillow>=5.3.0 in /usr/local/lib/python3.7/dist-packages (from torchvision->sentence-transformers) (7.1.2)\n",
            "Requirement already satisfied, skipping upgrade: idna<3,>=2.5 in /usr/local/lib/python3.7/dist-packages (from requests->transformers<5.0.0,>=4.6.0->sentence-transformers) (2.10)\n",
            "Requirement already satisfied, skipping upgrade: certifi>=2017.4.17 in /usr/local/lib/python3.7/dist-packages (from requests->transformers<5.0.0,>=4.6.0->sentence-transformers) (2021.5.30)\n",
            "Requirement already satisfied, skipping upgrade: chardet<4,>=3.0.2 in /usr/local/lib/python3.7/dist-packages (from requests->transformers<5.0.0,>=4.6.0->sentence-transformers) (3.0.4)\n",
            "Requirement already satisfied, skipping upgrade: urllib3!=1.25.0,!=1.25.1,<1.26,>=1.21.1 in /usr/local/lib/python3.7/dist-packages (from requests->transformers<5.0.0,>=4.6.0->sentence-transformers) (1.24.3)\n",
            "Requirement already satisfied, skipping upgrade: click in /usr/local/lib/python3.7/dist-packages (from sacremoses->transformers<5.0.0,>=4.6.0->sentence-transformers) (7.1.2)\n",
            "Requirement already satisfied, skipping upgrade: zipp>=0.5 in /usr/local/lib/python3.7/dist-packages (from importlib-metadata; python_version < \"3.8\"->transformers<5.0.0,>=4.6.0->sentence-transformers) (3.4.1)\n",
            "Requirement already satisfied, skipping upgrade: pyparsing>=2.0.2 in /usr/local/lib/python3.7/dist-packages (from packaging->transformers<5.0.0,>=4.6.0->sentence-transformers) (2.4.7)\n"
          ],
          "name": "stdout"
        }
      ]
    },
    {
      "cell_type": "code",
      "metadata": {
        "id": "bS6YHpXOAsOC"
      },
      "source": [
        ""
      ],
      "execution_count": null,
      "outputs": []
    },
    {
      "cell_type": "code",
      "metadata": {
        "id": "F_Zmp_o7k5FK",
        "colab": {
          "base_uri": "https://localhost:8080/",
          "height": 1000,
          "referenced_widgets": [
            "dd3a9f59f16a417fb633e63055acd186",
            "558bd75318e142b7ad3ef67832b25898",
            "8dd0fc88f5c846bfa4e43f6d9746626a",
            "c5ca4f152170458b9e9de9b72ca237ba",
            "dd9080b6bd0646748750218e60a96584",
            "6dd6fa284ad94416b87eb8043af01875",
            "eace070a1f024e4d9909fca61ed97294",
            "11e8f0a7535d482dbee1c061f8351b7a"
          ]
        },
        "outputId": "48373208-1281-486c-c60b-ec0c93bc1969"
      },
      "source": [
        "#https://github.com/UKPLab/sentence-transformers/blob/master/examples/application_semantic_search.py\n",
        "\"\"\"\n",
        "This is a simple application for sentence embeddings: semantic search\n",
        "We have a corpus with various sentences. Then, for a given query sentence,\n",
        "we want to find the most similar sentence in this corpus.\n",
        "This script outputs for various queries the top 5 most similar sentences in the corpus.\n",
        "\"\"\"\n",
        "\n",
        "from sentence_transformers import SentenceTransformer\n",
        "import scipy.spatial\n",
        "import pickle as pkl\n",
        "embedder = SentenceTransformer('bert-base-nli-mean-tokens')\n",
        "\n",
        "# Corpus with example sentences\n",
        "corpus = df_sentences_list\n",
        "#corpus_embeddings = embedder.encode(corpus,show_progress_bar=True)\n",
        "with open(\"/content/drive/MyDrive/bert recommendation/corpus_embeddings.pkl\" , \"rb\") as file_:\n",
        "  corpus_embeddings = pkl.load(file_)\n",
        "print('ok')\n",
        "# Query sentences:\n",
        "queries = ['What has been published about medical care?']\n",
        "query_embeddings = embedder.encode(queries,show_progress_bar=True)\n",
        "\n",
        "# Find the closest 5 sentences of the corpus for each query sentence based on cosine similarity\n",
        "closest_n = 5\n",
        "print(\"\\nTop 5 most similar sentences in corpus:\")\n",
        "for query, query_embedding in zip(queries, query_embeddings):\n",
        "    distances = scipy.spatial.distance.cdist([query_embedding], corpus_embeddings, \"cosine\")[0]\n",
        "\n",
        "    results = zip(range(len(distances)), distances)\n",
        "    results = sorted(results, key=lambda x: x[1])\n",
        "\n",
        "    print(\"\\n\\n=========================================================\")\n",
        "    print(\"==========================Query==============================\")\n",
        "    print(\"===\",query,\"=====\")\n",
        "    print(\"=========================================================\")\n",
        "\n",
        "\n",
        "    for idx, distance in results[0:closest_n]:\n",
        "        print(\"Score:   \", \"(Score: %.4f)\" % (1-distance) , \"\\n\" )\n",
        "        print(\"Paragraph:   \", corpus[idx].strip(), \"\\n\" )\n",
        "        row_dict = df.loc[df.index== corpus[idx]].to_dict()\n",
        "        print(\"paper_id:  \" , row_dict[\"paper_id\"][corpus[idx]] , \"\\n\")\n",
        "        print(\"Title:  \" , row_dict[\"title\"][corpus[idx]] , \"\\n\")\n",
        "        print(\"Abstract:  \" , row_dict[\"abstract\"][corpus[idx]] , \"\\n\")\n",
        "        print(\"Abstract_Summary:  \" , row_dict[\"abstract_summary\"][corpus[idx]] , \"\\n\")\n",
        "        print(\"-------------------------------------------\")"
      ],
      "execution_count": null,
      "outputs": [
        {
          "output_type": "stream",
          "text": [
            "ok\n"
          ],
          "name": "stdout"
        },
        {
          "output_type": "display_data",
          "data": {
            "application/vnd.jupyter.widget-view+json": {
              "model_id": "dd3a9f59f16a417fb633e63055acd186",
              "version_minor": 0,
              "version_major": 2
            },
            "text/plain": [
              "HBox(children=(FloatProgress(value=0.0, description='Batches', max=1.0, style=ProgressStyle(description_width=…"
            ]
          },
          "metadata": {
            "tags": []
          }
        },
        {
          "output_type": "stream",
          "text": [
            "\n",
            "\n",
            "Top 5 most similar sentences in corpus:\n",
            "\n",
            "\n",
            "=========================================================\n",
            "==========================Query==============================\n",
            "=== What has been published about medical care? =====\n",
            "=========================================================\n",
            "Score:    (Score: 0.8296) \n",
            "\n",
            "Paragraph:    how may state authorities require persons to undergo medical treatment \n",
            "\n",
            "paper_id:   1950c30fea7ef227129d94831df3fd0c57b9802c \n",
            "\n",
            "Title:    Chapter 10 Legal Aspects of Biosecurity \n",
            "\n",
            "Abstract:   when bad men combine the good must associate else they will fall one by one an unpitied sacrifice in a contemptible struggle\n",
            "the study of this chapter will enable you to\n",
            "1 discuss the definitions of terrorism and weapons of mass destruction and their relation to the illicit use of biological agents\n",
            "2 list all legislative and administrative documents that address the legal aspects of the unlawful use of biological agents\n",
            "4 discuss the prohibited uses of biological agents under international law 5 list and briefly discuss the homeland security presidential directives that apply to biosecurity and biodefense \n",
            "\n",
            "Abstract_Summary:    When bad men combine, the good must associate;<br>else they will fall one by one, an unpitied sacrifice<br>in a contemptible struggle.\n",
            "The study of this<br>chapter will enable you to:\n",
            "1. Discuss the definitions<br>of terrorism and weapons of mass destruction and<br>their relation to the illicit use of biological<br>agents.\n",
            "2. List all legislative and administrative<br>documents that address the legal aspects of the unlawful<br>use of biological agents.\n",
            "4. Discuss the<br>prohibited uses of biological agents under international<br>law. 5. List and briefly discuss the Homeland<br>Security Presidential Directives that apply to<br>biosecurity and biodefense. \n",
            "\n",
            "-------------------------------------------\n",
            "Score:    (Score: 0.8220) \n",
            "\n",
            "Paragraph:    to identify how one health has been used recently in the medical literature \n",
            "\n",
            "paper_id:   f703b510de361a759c9fe3419fa3aeb092c95512 \n",
            "\n",
            "Title:    One Health and Zoonoses: The Evolution of One<br>Health and Incorporation of Zoonoses \n",
            "\n",
            "Abstract:   nan \n",
            "\n",
            "Abstract_Summary:   Not provided. \n",
            "\n",
            "-------------------------------------------\n",
            "Score:    (Score: 0.8187) \n",
            "\n",
            "Paragraph:    medical questions in the personal questionnaire included the following \n",
            "\n",
            "paper_id:   2afa3da371e5495dd55f0b4dde4ae7700eaf99d6 \n",
            "\n",
            "Title:    Rhinitis, Asthma and Respiratory Infections<br>among Adults in Relation to the Home Environment in<br>Multi-Family Buildings in Sweden \n",
            "\n",
            "Abstract:   risk factors for rhinitis asthma and respiratory infections in the home environment were studied by a questionnaire survey totally 5775 occupants 18 years old from a stratified random sample of multifamily buildings in sweden participated 46 510 had rhinitis in the last 3 months current rhinitis 115 doctor diagnosed asthma 464 respiratory infections in the last 3 months and 119 antibiotic medication for respiratory infections in the last 12 months associations between home environment and health were analyzed by multiple logistic regression controlling for gender age and smoking and mutual adjustment buildings constructed during 19601975 were risk factors for day time breathlessness or  153 95ci 103229 and those constructed during 19761985 had more current rhinitis or  143 95ci 112184 and respiratory infections or  146 95ci 121178 cities with higher population density had more current rhinitis p  0008 and respiratory infections p0001 rented apartments had more current rhinitis or  123 95ci 107140 wheeze or  120 95ci 102141 day time breathlessness or  131 95ci 104166 and respiratory infections or  113 95ci 101126 living in colder parts of the country was a risk factor for wheeze p  003 and night time breathlessness p  0002 building dampness was a risk factor for wheeze or  142 95ci 108186 and day time breathlessness or  157 95ci 109227 building dampness was a risk factor for health among those below 66 years old odor at home was a risk factor for doctor diagnosed asthma or  149 95ci 108206 and current asthma or  152 95ci 103224 environmental tobacco smoke ets was a risk factor for current asthma or  153 95ci 109216 window pane condensation was a risk factor for antibiotic medication for respiratory infections or  141 95ci 110182 in conclusion rhinitis asthma and respiratory infections were related to a number of factors in the home environment certain building years  building dampness window pane condensation and odor in the dwelling may be risk factors \n",
            "\n",
            "Abstract_Summary:    Risk factors for rhinitis, asthma and<br>respiratory infections in the home environment were<br>studied by a questionnaire survey. Totally 5775<br>occupants ($18 years old) from a stratified random sample<br>of multi-family buildings in Sweden<br>participated (46%). 51.0% had rhinitis in the last 3 months<br>(current rhinitis); 11.5% doctor diagnosed asthma;<br>46.4% respiratory infections in the last 3 months and<br>11.9% antibiotic medication for respiratory<br>infections in the last 12 months. Associations between<br>home environment and health were analyzed by<br>multiple logistic regression, controlling for gender,<br>age and smoking and mutual adjustment. Buildings<br>constructed during 1960-1975 were risk factors for day... \n",
            "\n",
            "-------------------------------------------\n",
            "Score:    (Score: 0.7816) \n",
            "\n",
            "Paragraph:    when you spoke to nhs direct what did they tell you \n",
            "\n",
            "paper_id:   6fc8c1b4cfbd790cbe02c825fd6f9181b1fc6645 \n",
            "\n",
            "Title:    Reassuring and managing patients with<br>concerns about swine flu: Qualitative interviews with<br>callers to NHS Direct \n",
            "\n",
            "Abstract:   background during the early stages of the 2009 swine flu influenza h1n1 outbreak the large majority of patients who contacted the health services about the illness did not have it in the uk the nhs direct telephone service was used by many of these patients we used qualitative interviews to identify the main reasons why people approached nhs direct with concerns about swine flu and to identify aspects of their contact which were reassuring using a framework approach methods 33 patients participated in semistructured interviews all patients had telephoned nhs direct between 11 and 14 may with concerns about swine flu and had been assessed as being unlikely to have the illness results reasons for seeking advice about swine flu included the presence of unexpectedly severe flulike symptoms uncertainties about how one can catch swine flu concern about giving it to others pressure from friends or employers and seeking peace of mind most participants found speaking to nhs direct reassuring or useful helpful aspects included having swine flu ruled out receiving an alternative explanation for symptoms clarification on how swine flu is transmitted and the perceived credibility of nhs direct noone reported anything that had increased their anxiety and only one participant subsequently sought additional advice about swine flu from elsewhere conclusions future major incidents involving other forms of chemical biological or radiological hazards may also cause large numbers of unexposed people to seek health advice our data suggest that providing telephone triage and information is helpful in such instances particularly where advice can be given via a trusted preexisting service \n",
            "\n",
            "Abstract_Summary:    Background: During the early stages of the 2009<br>swine flu (influenza H1N1) outbreak, the large<br>majority of patients who contacted the health services<br>about the illness did not have it. In the UK, the NHS<br>Direct telephone service was used by many of these<br>patients. We used qualitative interviews to identify the<br>main reasons why people approached NHS Direct with<br>concerns about swine flu and to identify aspects of their<br>contact which were reassuring, using a framework<br>approach. Methods: 33 patients participated in<br>semi-structured interviews. All patients had telephoned NHS<br>Direct between 11 and 14 May with concerns about swine... \n",
            "\n",
            "-------------------------------------------\n",
            "Score:    (Score: 0.7758) \n",
            "\n",
            "Paragraph:    how should this patient be evaluated and treated \n",
            "\n",
            "paper_id:   31881cc2530107849da340e6a16c9618b7e7bb8d \n",
            "\n",
            "Title:    Hemophagocytic lymphohistiocytosis<br>associated with viral infections: Diagnostic challenge<br>and therapeutic dilemma \n",
            "\n",
            "Abstract:   hemophagocytic lymphohistiocytosis is a frequently fatal clinicopathologic syndrome in which an uncontrolled and ineffective immune response leads to severe hyperinflammation it may occur as either a familial disorder or a sporadic condition in association with a variety of triggers infections malignancies autoimmune diseases and acquired immune deficiencies however the most consistent association is with viral infections especially epsteinbarr virus the main clinical features are fever liver dysfunction coagulation abnormalities and pancytopenia early diagnosis and treatment are important to reducing mortality but the diagnosis is difficult because of the rarity of the syndrome and the lack of specificity of the clinical findings treatment should be directed toward treating the underlying disease and to suppressing the exaggerated inflammatory response through the use of immunosuppressive agents\n",
            "resumen la linfohistiocitosis hemofagoctica es un sndrome clinicopatolgico de evolucin potencialmente fatal en el que una respuesta inmune no controlada e ineficaz conduce a hiperinflamacin puede aparecer como una enfermedad familiar o espordica asociado a diferentes factores desencadenantes infecciones neoplasias enfermedades autoinmunes o inmunodeficiencias adquiridas pero la asociacin ms consistente es con infecciones virales  please cite this article as mostazafernndez jl guerra laso j carriedo ule d ruiz de morales jmg linfohistiocitosis hemofagoctica asociada a infecciones virales reto diagnstico y dilema teraputico rev clin esp 2014214320327 \n",
            "\n",
            "Abstract_Summary:    Hemophagocytic lymphohistiocytosis is a<br>frequently fatal clinicopathologic syndrome in which an<br>uncontrolled and ineffective immune response leads to<br>severe hyperinflammation. It may occur as either a<br>familial disorder or a sporadic condition in<br>association with a variety of triggers: infections,<br>malignancies, autoimmune diseases, and acquired immune<br>deficiencies. However, the most consistent association is<br>with viral infections, especially Epstein---Barr<br>virus. The main clinical features are fever, liver<br>dysfunction, coagulation abnormalities and pancytopenia.<br>Early diagnosis and treatment are important to<br>reducing mortality, but the diagnosis is difficult<br>because of the rarity of the syndrome and the lack of<br>specificity of the clinical... \n",
            "\n",
            "-------------------------------------------\n"
          ],
          "name": "stdout"
        }
      ]
    },
    {
      "cell_type": "code",
      "metadata": {
        "id": "Hzmpe7Af17VK"
      },
      "source": [
        "#import pickle as pkl\n",
        "#with open(\"/content/drive/My Drive/BertSentenceSimilarity/Pickles/corpus_embeddings.pkl\" , \"wb\") as file_:\n",
        "#  pkl.dump(corpus_embeddings,file_)"
      ],
      "execution_count": null,
      "outputs": []
    },
    {
      "cell_type": "code",
      "metadata": {
        "id": "s_m8wd5NAhW9"
      },
      "source": [
        ""
      ],
      "execution_count": null,
      "outputs": []
    }
  ]
}